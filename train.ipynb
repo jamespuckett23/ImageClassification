{
 "cells": [
  {
   "cell_type": "markdown",
   "metadata": {
    "id": "mRRXU8B8M7gf"
   },
   "source": [
    "Set up working environment\n",
    "- Github library for code\n",
    "- Working directory"
   ]
  },
  {
   "cell_type": "code",
   "execution_count": 2,
   "metadata": {
    "colab": {
     "base_uri": "https://localhost:8080/"
    },
    "id": "icaqFq71M7gg",
    "outputId": "1ca75349-e333-4f24-e546-84b8093717ce"
   },
   "outputs": [
    {
     "name": "stdout",
     "output_type": "stream",
     "text": [
      "Cloning into 'ImageClassification'...\n",
      "remote: Enumerating objects: 22, done.\u001b[K\n",
      "remote: Counting objects: 100% (22/22), done.\u001b[K\n",
      "remote: Compressing objects: 100% (19/19), done.\u001b[K\n",
      "remote: Total 22 (delta 7), reused 15 (delta 2), pack-reused 0 (from 0)\u001b[K\n",
      "Receiving objects: 100% (22/22), 8.35 KiB | 2.78 MiB/s, done.\n",
      "Resolving deltas: 100% (7/7), done.\n",
      "/content/ImageClassification\n"
     ]
    }
   ],
   "source": [
    "!git clone https://github.com/jamespuckett23/ImageClassification.git\n",
    "\n",
    "import sys\n",
    "sys.path.append('/ImageClassification')\n",
    "\n",
    "%cd ImageClassification/\n"
   ]
  },
  {
   "cell_type": "markdown",
   "metadata": {
    "id": "PTaDBj1nM7gi"
   },
   "source": [
    "It may be necessary to update the library. If so, run the following block"
   ]
  },
  {
   "cell_type": "code",
   "execution_count": null,
   "metadata": {
    "id": "pQRuFRK3M7gi"
   },
   "outputs": [],
   "source": [
    "!git -C your-repository pull"
   ]
  },
  {
   "cell_type": "markdown",
   "metadata": {
    "id": "wBZ2AN9J-VQx"
   },
   "source": [
    "Load functions from main.py to execute the DL model\n"
   ]
  },
  {
   "cell_type": "code",
   "execution_count": null,
   "metadata": {
    "id": "Is6QK01b-uXy"
   },
   "outputs": [],
   "source": [
    "from ImageUtils import parse_record\n",
    "from DataReader import load_data, train_vaild_split\n",
    "from Model import Cifar\n",
    "\n",
    "import os\n",
    "import argparse"
   ]
  },
  {
   "cell_type": "code",
   "execution_count": null,
   "metadata": {
    "colab": {
     "base_uri": "https://localhost:8080/",
     "height": 218
    },
    "id": "xbhM-Zjm-gED",
    "outputId": "30e5fe79-8f6e-4e8f-a5df-5cf5b2c245f5"
   },
   "outputs": [
    {
     "name": "stderr",
     "output_type": "stream",
     "text": [
      "usage: colab_kernel_launcher.py [-h] [--batch_size BATCH_SIZE] [--num_classes NUM_CLASSES]\n",
      "                                [--save_interval SAVE_INTERVAL] [--weight_decay WEIGHT_DECAY]\n",
      "                                [--modeldir MODELDIR] [--lr LR] [--gpu GPU]\n",
      "colab_kernel_launcher.py: error: unrecognized arguments: -f /root/.local/share/jupyter/runtime/kernel-8ab8bc57-fc6c-448b-bc37-5d3be0977b4e.json\n"
     ]
    },
    {
     "ename": "SystemExit",
     "evalue": "2",
     "output_type": "error",
     "traceback": [
      "An exception has occurred, use %tb to see the full traceback.\n",
      "\u001b[0;31mSystemExit\u001b[0m\u001b[0;31m:\u001b[0m 2\n"
     ]
    },
    {
     "name": "stderr",
     "output_type": "stream",
     "text": [
      "/usr/local/lib/python3.10/dist-packages/IPython/core/interactiveshell.py:3561: UserWarning: To exit: use 'exit', 'quit', or Ctrl-D.\n",
      "  warn(\"To exit: use 'exit', 'quit', or Ctrl-D.\", stacklevel=1)\n"
     ]
    }
   ],
   "source": [
    "def configure():\n",
    "    parser = argparse.ArgumentParser()\n",
    "    ### YOUR CODE HERE\n",
    "    parser.add_argument(\"--batch_size\", type=int, default=128, help='training batch size')\n",
    "    parser.add_argument(\"--num_classes\", type=int, default=10, help='number of classes')\n",
    "    parser.add_argument(\"--save_interval\", type=int, default=10, \n",
    "                        help='save the checkpoint when epoch MOD save_interval == 0')\n",
    "    parser.add_argument(\"--weight_decay\", type=float, default=2e-4, help='weight decay rate')\n",
    "    parser.add_argument(\"--modeldir\", type=str, default='model_v1', help='model directory')\n",
    "    parser.add_argument(\"--lr\", type=float, default=0.01)\n",
    "    parser.add_argument(\"--gpu\", type=int, default=0)\n",
    "    ### YOUR CODE HERE\n",
    "    # return parser.parse_args()\n",
    "    args, unknown = parser.parse_known_args()\n",
    "    print(\"Unrecognized arguments:\", unknown)\n",
    "    return args\n",
    "\n",
    "def main(config):\n",
    "    print(\"--- Preparing Data ---\")\n",
    "\n",
    "    ### YOUR CODE HERE\n",
    "    data_dir = \"./cifar-10-batches-py\"\n",
    "    ### YOUR CODE HERE\n",
    "\n",
    "    x_train, y_train, x_test, y_test = load_data(data_dir)\n",
    "    x_train_new, y_train_new, x_valid, y_valid = train_vaild_split(x_train, y_train)\n",
    "\n",
    "    model = Cifar(config).cuda()\n",
    "\n",
    "    ### YOUR CODE HERE\n",
    "    model.train(x_train_new, y_train_new, 100)\n",
    "    model.test_or_validate(x_valid, y_valid, [80, 90, 100])\n",
    "    model.test_or_validate(x_test, y_test, [100])\n",
    "\n",
    "    ### END CODE HERE\n",
    "\n",
    "if __name__ == \"__main__\":\n",
    "    config = configure()\n",
    "    os.environ['CUDA_VISIBLE_DEVICES'] = str(config.gpu)\n",
    "    main(config)"
   ]
  }
 ],
 "metadata": {
  "colab": {
   "provenance": []
  },
  "kernelspec": {
   "display_name": "Python 3",
   "name": "python3"
  },
  "language_info": {
   "name": "python"
  }
 },
 "nbformat": 4,
 "nbformat_minor": 0
}
