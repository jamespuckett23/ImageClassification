{
  "cells": [
    {
      "cell_type": "markdown",
      "metadata": {
        "id": "mRRXU8B8M7gf"
      },
      "source": [
        "Set up working environment\n",
        "- Github library for code\n",
        "- Working directory"
      ]
    },
    {
      "cell_type": "code",
      "execution_count": 6,
      "metadata": {
        "id": "icaqFq71M7gg",
        "outputId": "5d432e92-2cd6-4a42-ac2b-83e770b73b70",
        "colab": {
          "base_uri": "https://localhost:8080/"
        }
      },
      "outputs": [
        {
          "output_type": "stream",
          "name": "stdout",
          "text": [
            "Cloning into 'ImageClassification'...\n",
            "remote: Enumerating objects: 19, done.\u001b[K\n",
            "remote: Counting objects: 100% (19/19), done.\u001b[K\n",
            "remote: Compressing objects: 100% (16/16), done.\u001b[K\n",
            "remote: Total 19 (delta 5), reused 16 (delta 2), pack-reused 0 (from 0)\u001b[K\n",
            "Receiving objects: 100% (19/19), 7.51 KiB | 7.51 MiB/s, done.\n",
            "Resolving deltas: 100% (5/5), done.\n",
            "/content/ImageClassification/ImageClassification/ImageClassification\n"
          ]
        }
      ],
      "source": [
        "!git clone https://github.com/jamespuckett23/ImageClassification.git\n",
        "\n",
        "import sys\n",
        "sys.path.append('/ImageClassification')\n",
        "\n",
        "%cd ImageClassification/\n",
        "\n",
        "from Model import Cifar"
      ]
    },
    {
      "cell_type": "markdown",
      "metadata": {
        "id": "PTaDBj1nM7gi"
      },
      "source": [
        "It may be necessary to update the library. If so, run the following block"
      ]
    },
    {
      "cell_type": "code",
      "execution_count": null,
      "metadata": {
        "id": "pQRuFRK3M7gi"
      },
      "outputs": [],
      "source": [
        "!git -C your-repository pull"
      ]
    }
  ],
  "metadata": {
    "language_info": {
      "name": "python"
    },
    "colab": {
      "provenance": []
    },
    "kernelspec": {
      "name": "python3",
      "display_name": "Python 3"
    }
  },
  "nbformat": 4,
  "nbformat_minor": 0
}