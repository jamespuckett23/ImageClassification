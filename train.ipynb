{
  "cells": [
    {
      "cell_type": "markdown",
      "metadata": {
        "id": "mRRXU8B8M7gf"
      },
      "source": [
        "Set up working environment\n",
        "- Github library for code\n",
        "- Working directory"
      ]
    },
    {
      "cell_type": "code",
      "execution_count": 2,
      "metadata": {
        "colab": {
          "base_uri": "https://localhost:8080/"
        },
        "id": "icaqFq71M7gg",
        "outputId": "1ca75349-e333-4f24-e546-84b8093717ce"
      },
      "outputs": [
        {
          "output_type": "stream",
          "name": "stdout",
          "text": [
            "Cloning into 'ImageClassification'...\n",
            "remote: Enumerating objects: 22, done.\u001b[K\n",
            "remote: Counting objects: 100% (22/22), done.\u001b[K\n",
            "remote: Compressing objects: 100% (19/19), done.\u001b[K\n",
            "remote: Total 22 (delta 7), reused 15 (delta 2), pack-reused 0 (from 0)\u001b[K\n",
            "Receiving objects: 100% (22/22), 8.35 KiB | 2.78 MiB/s, done.\n",
            "Resolving deltas: 100% (7/7), done.\n",
            "/content/ImageClassification\n"
          ]
        }
      ],
      "source": [
        "!git clone https://github.com/jamespuckett23/ImageClassification.git\n",
        "\n",
        "import sys\n",
        "sys.path.append('/ImageClassification')\n",
        "\n",
        "%cd ImageClassification/\n"
      ]
    },
    {
      "cell_type": "markdown",
      "metadata": {
        "id": "PTaDBj1nM7gi"
      },
      "source": [
        "It may be necessary to update the library. If so, run the following block"
      ]
    },
    {
      "cell_type": "code",
      "execution_count": null,
      "metadata": {
        "id": "pQRuFRK3M7gi"
      },
      "outputs": [],
      "source": [
        "!git -C your-repository pull"
      ]
    },
    {
      "cell_type": "markdown",
      "source": [
        "Load functions from main.py to execute the DL model\n"
      ],
      "metadata": {
        "id": "wBZ2AN9J-VQx"
      }
    },
    {
      "cell_type": "code",
      "source": [
        "from main import configure\n",
        "from main import main\n",
        "from ImageUtils import parse_record\n",
        "from DataReader import load_data, train_vaild_split\n",
        "from Model import Cifar\n",
        "\n",
        "import os\n",
        "import argparse"
      ],
      "metadata": {
        "id": "Is6QK01b-uXy"
      },
      "execution_count": 3,
      "outputs": []
    },
    {
      "cell_type": "code",
      "source": [
        "if __name__ == \"__main__\":\n",
        "    config = configure()\n",
        "    os.environ['CUDA_VISIBLE_DEVICES'] = str(config.gpu)\n",
        "    main(config)"
      ],
      "metadata": {
        "id": "xbhM-Zjm-gED",
        "outputId": "30e5fe79-8f6e-4e8f-a5df-5cf5b2c245f5",
        "colab": {
          "base_uri": "https://localhost:8080/",
          "height": 218
        }
      },
      "execution_count": 4,
      "outputs": [
        {
          "output_type": "stream",
          "name": "stderr",
          "text": [
            "usage: colab_kernel_launcher.py [-h] [--batch_size BATCH_SIZE] [--num_classes NUM_CLASSES]\n",
            "                                [--save_interval SAVE_INTERVAL] [--weight_decay WEIGHT_DECAY]\n",
            "                                [--modeldir MODELDIR] [--lr LR] [--gpu GPU]\n",
            "colab_kernel_launcher.py: error: unrecognized arguments: -f /root/.local/share/jupyter/runtime/kernel-8ab8bc57-fc6c-448b-bc37-5d3be0977b4e.json\n"
          ]
        },
        {
          "output_type": "error",
          "ename": "SystemExit",
          "evalue": "2",
          "traceback": [
            "An exception has occurred, use %tb to see the full traceback.\n",
            "\u001b[0;31mSystemExit\u001b[0m\u001b[0;31m:\u001b[0m 2\n"
          ]
        },
        {
          "output_type": "stream",
          "name": "stderr",
          "text": [
            "/usr/local/lib/python3.10/dist-packages/IPython/core/interactiveshell.py:3561: UserWarning: To exit: use 'exit', 'quit', or Ctrl-D.\n",
            "  warn(\"To exit: use 'exit', 'quit', or Ctrl-D.\", stacklevel=1)\n"
          ]
        }
      ]
    }
  ],
  "metadata": {
    "language_info": {
      "name": "python"
    },
    "colab": {
      "provenance": []
    },
    "kernelspec": {
      "name": "python3",
      "display_name": "Python 3"
    }
  },
  "nbformat": 4,
  "nbformat_minor": 0
}